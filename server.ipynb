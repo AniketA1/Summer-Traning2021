{
 "cells": [
  {
   "cell_type": "code",
   "execution_count": 1,
   "id": "a712e398",
   "metadata": {},
   "outputs": [],
   "source": [
    "import socket, cv2 , struct , pickle"
   ]
  },
  {
   "cell_type": "code",
   "execution_count": null,
   "id": "0f536a17",
   "metadata": {},
   "outputs": [
    {
     "name": "stdout",
     "output_type": "stream",
     "text": [
      "HostIP: 192.168.99.1\n",
      "Listening at:  ('192.168.99.1', 8080)\n",
      "Connected with:  ('192.168.99.1', 49724)\n"
     ]
    }
   ],
   "source": [
    "s =  socket.socket(socket.AF_INET,socket.SOCK_STREAM)\n",
    "host_name = socket.gethostname()\n",
    "host_ip = socket.gethostbyname(host_name)\n",
    "print(\"HostIP:\" , host_ip)\n",
    "port = 8080\n",
    "socket_add = (host_ip , port)\n",
    "\n",
    "#socket bind\n",
    "s.bind(socket_add)\n",
    "\n",
    "#socket listen\n",
    "s.listen(5)\n",
    "print(\"Listening at: \" , socket_add)\n",
    "\n",
    "\n",
    "while True:\n",
    "    client_socket , addr = s.accept()\n",
    "    print(\"Connected with: \" , addr)\n",
    "    if client_socket:\n",
    "        cap = cv2.VideoCapture(0)\n",
    "        \n",
    "        while(cap.isOpened()):\n",
    "            ret, video= cap.read()\n",
    "            a = pickle.dumps(video)\n",
    "            message = struct.pack(\"Q\" , len(a))+a\n",
    "            client_socket.sendall(message)\n",
    "            \n",
    "            cv2.imshow(\"Server video\", video)\n",
    "            key = cv2.waitKey(1) & 0xFF\n",
    "            if key==ord(\"c\"):\n",
    "                client_socket.close()\n",
    "                break;\n",
    "cv2.destroyAllWindows()                "
   ]
  },
  {
   "cell_type": "code",
   "execution_count": null,
   "id": "04be40e1",
   "metadata": {},
   "outputs": [],
   "source": []
  }
 ],
 "metadata": {
  "kernelspec": {
   "display_name": "Python 3",
   "language": "python",
   "name": "python3"
  },
  "language_info": {
   "codemirror_mode": {
    "name": "ipython",
    "version": 3
   },
   "file_extension": ".py",
   "mimetype": "text/x-python",
   "name": "python",
   "nbconvert_exporter": "python",
   "pygments_lexer": "ipython3",
   "version": "3.8.8"
  }
 },
 "nbformat": 4,
 "nbformat_minor": 5
}
