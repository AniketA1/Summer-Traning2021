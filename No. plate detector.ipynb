{
 "cells": [
  {
   "cell_type": "code",
   "execution_count": 29,
   "id": "0d27e43f",
   "metadata": {},
   "outputs": [
    {
     "data": {
      "image/png": "[encoded data removed]",
      "text/plain": [
       "<Figure size 432x288 with 1 Axes>"
      ]
     },
     "metadata": {
      "needs_background": "light"
     },
     "output_type": "display_data"
    },
    {
     "name": "stderr",
     "output_type": "stream",
     "text": [
      "CUDA not available - defaulting to CPU. Note: This module is much faster with a GPU.\n"
     ]
    },
    {
     "name": "stdout",
     "output_type": "stream",
     "text": [
      "DL8CAF5030 \n"
     ]
    }
   ],
   "source": [
    "import numpy as np\n",
    "import cv2\n",
    "import matplotlib.pyplot as plt\n",
    "import easyocr\n",
    "\n",
    "plateCascade = cv2.CascadeClassifier('indian_license_plate.xml')\n",
    "\n",
    "\n",
    "def detect_plate_no(img):\n",
    "    plateImg = img.copy()\n",
    "    roi = img.copy()\n",
    "    plateRect = plateCascade.detectMultiScale(plateImg,scaleFactor = 1.5, minNeighbors = 7)\n",
    "    for (x,y,w,h) in plateRect:\n",
    "        a,b = (int(0.01*img.shape[0]), int(0.04*img.shape[1]))\n",
    "        platePart = roi[y+a:y+h-a, x+b:x+w-b, :]\n",
    "        cv2.rectangle(plateImg,(x,y),(x+w, y+h),(51,51,255),3)\n",
    "    return plateImg, platePart\n",
    "\n",
    "\n",
    "def display_plate_no(img):\n",
    "    img_ = cv2.cvtColor(img,cv2.COLOR_BGR2GRAY)\n",
    "    plt.imshow(img_)\n",
    "    plt.show()\n",
    "\n",
    "\n",
    "inputImg = cv2.imread('car2.jpg')\n",
    "inpImg, plate = detect_plate_no(inputImg)\n",
    "\n",
    "display_plate_no(plate)\n",
    "\n",
    "reader = easyocr.Reader(['en'])\n",
    "result = reader.readtext(plate)\n",
    "text = result[0][1]\n",
    "print(text)"
   ]
  },
  {
   "cell_type": "code",
   "execution_count": 31,
   "id": "4f3d6326",
   "metadata": {},
   "outputs": [
    {
     "name": "stdout",
     "output_type": "stream",
     "text": [
      "DESCRIPTION: MERCEDES-BENZ CLA CLASS CLA 45 AMG COUPE\n",
      "CAR COMPANY: MERCEDES-BENZ\n",
      "CAR MODEL: CLA CLASS\n",
      "FUEL TYPE: Petrol\n",
      "ENGINE SIZE: 1991\n",
      "NUMBER OF SEATS: 5\n",
      "REGISTRATION YEAR: 2014\n",
      "REGISTRATION DATE: 13/06/2014\n",
      "VEHICLE IDENTIFICATION NUMBER: WDD1173522N056045\n",
      "ENGINE NUMBER: 13398080004697\n",
      "VEHICLE TYPE: MOTOR CAR(LMV)\n",
      "LOCATION: DY.DIR.ZONAL OFFICE,DELHI NORTH WEST,WAZIRPUR\n"
     ]
    }
   ],
   "source": [
    "import cgi\n",
    "import requests\n",
    "import xmltodict\n",
    "import json\n",
    "\n",
    "user = \"Ani\"\n",
    "def get_vehicle_info(number):\n",
    "    r = requests.get(f\"http://www.regcheck.org.uk/api/reg.asmx/CheckIndia?RegistrationNumber={text}&username={user}\")\n",
    "    data = xmltodict.parse(r.content)\n",
    "    jdata = json.dumps(data)\n",
    "    df = json.loads(jdata)\n",
    "    df1 = json.loads(df['Vehicle']['vehicleJson'])\n",
    "    return df1\n",
    "\n",
    "\n",
    "p = get_vehicle_info(text)\n",
    "\n",
    "s=\"DESCRIPTION: \"+str(p['Description'])+\"\\n\"+\"CAR COMPANY: \"+str(p['CarMake']['CurrentTextValue'])+\"\\n\"+\"CAR MODEL: \"+str(p['CarModel']['CurrentTextValue'])+\"\\n\"+\"FUEL TYPE: \"+str(p['FuelType']['CurrentTextValue'])+\"\\n\"+\"ENGINE SIZE: \"+str(p['EngineSize']['CurrentTextValue'])+\"\\n\"+\"NUMBER OF SEATS: \"+str(p['NumberOfSeats']['CurrentTextValue'])+\"\\n\"+\"REGISTRATION YEAR: \"+str(p['RegistrationYear'])+\"\\n\"+\"REGISTRATION DATE: \"+str(p['RegistrationDate'])+\"\\n\"+\"VEHICLE IDENTIFICATION NUMBER: \"+str(p['VechileIdentificationNumber'])+\"\\n\"+\"ENGINE NUMBER: \"+str(p['EngineNumber'])+\"\\n\"+\"VEHICLE TYPE: \"+str(p['VehicleType'])+\"\\n\"+\"LOCATION: \"+str(p['Location'])\n",
    "print(s)"
   ]
  },
  {
   "cell_type": "code",
   "execution_count": null,
   "id": "d8bba871",
   "metadata": {},
   "outputs": [],
   "source": []
  },
  {
   "cell_type": "code",
   "execution_count": null,
   "id": "90f9fe7f",
   "metadata": {},
   "outputs": [],
   "source": []
  },
  {
   "cell_type": "code",
   "execution_count": null,
   "id": "8f2f85f9",
   "metadata": {},
   "outputs": [],
   "source": []
  },
  {
   "cell_type": "code",
   "execution_count": null,
   "id": "e4947d01",
   "metadata": {},
   "outputs": [],
   "source": []
  },
  {
   "cell_type": "code",
   "execution_count": null,
   "id": "cce617b4",
   "metadata": {},
   "outputs": [],
   "source": []
  },
  {
   "cell_type": "code",
   "execution_count": null,
   "id": "9041c1bd",
   "metadata": {},
   "outputs": [],
   "source": []
  },
  {
   "cell_type": "code",
   "execution_count": null,
   "id": "e6f6728a",
   "metadata": {},
   "outputs": [],
   "source": []
  }
 ],
 "metadata": {
  "kernelspec": {
   "display_name": "Python 3",
   "language": "python",
   "name": "python3"
  },
  "language_info": {
   "codemirror_mode": {
    "name": "ipython",
    "version": 3
   },
   "file_extension": ".py",
   "mimetype": "text/x-python",
   "name": "python",
   "nbconvert_exporter": "python",
   "pygments_lexer": "ipython3",
   "version": "3.8.8"
  }
 },
 "nbformat": 4,
 "nbformat_minor": 5
}
