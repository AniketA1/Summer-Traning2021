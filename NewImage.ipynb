{
 "cells": [
  {
   "cell_type": "code",
   "execution_count": 1,
   "id": "7ee744c8",
   "metadata": {},
   "outputs": [],
   "source": [
    "import cv2\n",
    "import numpy "
   ]
  },
  {
   "cell_type": "code",
   "execution_count": 2,
   "id": "a86d6d72",
   "metadata": {},
   "outputs": [],
   "source": [
    "a = numpy.zeros((500,600,3))"
   ]
  },
  {
   "cell_type": "code",
   "execution_count": 3,
   "id": "030c9143",
   "metadata": {},
   "outputs": [],
   "source": [
    "cv2.imshow(\"new\",a)\n",
    "cv2.waitKey()\n",
    "cv2.destroyAllWindows()"
   ]
  },
  {
   "cell_type": "code",
   "execution_count": 4,
   "id": "eeeaf0c0",
   "metadata": {},
   "outputs": [],
   "source": [
    "a[:,:]=[255,0,0]\n",
    "a[:100,:1000]=[255,0,225]\n",
    "a[100:200,:1000]=[0,0,255]\n",
    "a[200:300,:1000]=[0,255,0]\n",
    "a[300:400,:1000]=[255,0,225]\n",
    "a[:100,:100]=[255,0,0]\n",
    "a[:100,100:200]=[0,255,225]\n",
    "a[100:200,100:200]=[0,0,225]\n",
    "a[200:300,100:200]=[255,0,225]\n",
    "a[100:200,500:600]=[255,0,0]\n",
    "a[200:300,200:300]=[255,0,0]\n",
    "a[300:400,300:400]=[0,0,225]\n",
    "a[400:500,400:500]=[0,255,0]"
   ]
  },
  {
   "cell_type": "code",
   "execution_count": 5,
   "id": "d01879e8",
   "metadata": {},
   "outputs": [],
   "source": [
    "cv2.imshow(\"new\",a)\n",
    "cv2.waitKey()\n",
    "cv2.destroyAllWindows()"
   ]
  }
 ],
 "metadata": {
  "kernelspec": {
   "display_name": "Python 3",
   "language": "python",
   "name": "python3"
  },
  "language_info": {
   "codemirror_mode": {
    "name": "ipython",
    "version": 3
   },
   "file_extension": ".py",
   "mimetype": "text/x-python",
   "name": "python",
   "nbconvert_exporter": "python",
   "pygments_lexer": "ipython3",
   "version": "3.8.8"
  }
 },
 "nbformat": 4,
 "nbformat_minor": 5
}
